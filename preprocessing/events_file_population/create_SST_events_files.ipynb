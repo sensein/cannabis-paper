{
 "cells": [
  {
   "cell_type": "code",
   "execution_count": null,
   "id": "0df56d50",
   "metadata": {},
   "outputs": [],
   "source": [
    "import os\n",
    "import pandas as pd\n",
    "import glob\n",
    "import re"
   ]
  },
  {
   "cell_type": "code",
   "execution_count": null,
   "id": "de7d2beb",
   "metadata": {},
   "outputs": [],
   "source": [
    "def make_events_file(SST_stim_locations): \n",
    "    dfs = []\n",
    "    for loc in SST_stim_locations:\n",
    "        trial_type = loc.split(\"/\")[-1].split(\".\")[0]\n",
    "        df = pd.read_csv (loc, sep='\\t+',header = None,engine='python')\n",
    "        numrows_df = df.shape[0]\n",
    "        df[2]=[trial_type for val in range(0,numrows_df)]\n",
    "        dfs.append(df)\n",
    "    all_events = pd.concat(dfs, ignore_index=True)\n",
    "    all_events.set_axis(['onset', 'duration', 'trial_type'], axis=1,inplace=True)\n",
    "    all_events.sort_values(by='onset', inplace=True, ascending=True)\n",
    "    \n",
    "    #this duplicates every row and puts duplicates one after the other\n",
    "    all_events = pd.concat([all_events]*2)\n",
    "    all_events.sort_values(by='onset', inplace=True, ascending=True)\n",
    "    all_events.reset_index(drop=True, inplace=True)\n",
    "\n",
    "    #this adds 0.2 to the onset of the first occurence of every row + _image to the title of these rows\n",
    "    all_events.loc[0::2].onset +=0.2\n",
    "    all_events.loc[0::2].trial_type+= '_image'\n",
    "    \n",
    "    #this adds 1.0 to the onset of the second occurence of every row + 0.5 to the duration + _arrow to the title of these rows\n",
    "    all_events.loc[1::2].onset +=1\n",
    "    all_events.loc[1::2].duration +=0.5\n",
    "    all_events.loc[1::2].trial_type+= '_arrow'\n",
    "    \n",
    "    return all_events"
   ]
  },
  {
   "cell_type": "code",
   "execution_count": null,
   "id": "0d10a896",
   "metadata": {},
   "outputs": [],
   "source": [
    "events_file_locations = (glob.glob(\"../../../sub-*/ses-*/func/*sst*run-*events.tsv\"))\n",
    "events_dict={}\n",
    "for events_loc in events_file_locations:\n",
    "    split_loc = events_loc.split('/')\n",
    "    grp, num = re.split('(\\d+)', split_loc[3].split(\"-\")[-1])[0:2]\n",
    "    ses = split_loc[4].split('-')[-1]\n",
    "    run = split_loc[-1].split('_')[-2].split('-')[-1]\n",
    "    if run != '3':\n",
    "        if (grp+num+ses+run not in events_dict.keys()):\n",
    "            SST_stim_locations = (glob.glob(\"../../../sourcedata/behavioral/{}_{}/{}/SST_R{}/*.txt\".format(grp,num,ses,run)))\n",
    "            all_events = make_events_file(SST_stim_locations)\n",
    "            events_dict[grp+num+ses+run]=all_events\n",
    "        else:\n",
    "            all_events = events_dict[grp+num+ses+run]\n",
    "        all_events.to_csv(events_loc, index = False, header=True, sep='\\t', float_format='%.3f')\n",
    "        "
   ]
  }
 ],
 "metadata": {
  "kernelspec": {
   "display_name": "Python 3",
   "language": "python",
   "name": "python3"
  },
  "language_info": {
   "codemirror_mode": {
    "name": "ipython",
    "version": 3
   },
   "file_extension": ".py",
   "mimetype": "text/x-python",
   "name": "python",
   "nbconvert_exporter": "python",
   "pygments_lexer": "ipython3",
   "version": "3.9.13"
  }
 },
 "nbformat": 4,
 "nbformat_minor": 5
}
