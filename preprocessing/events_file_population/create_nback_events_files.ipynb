{
 "cells": [
  {
   "cell_type": "code",
   "execution_count": null,
   "id": "388fbaea",
   "metadata": {},
   "outputs": [],
   "source": [
    "import os\n",
    "import pandas as pd\n",
    "import glob\n",
    "import numpy as np"
   ]
  },
  {
   "cell_type": "code",
   "execution_count": null,
   "id": "a3cba436",
   "metadata": {},
   "outputs": [],
   "source": [
    "nback_events_locations = (glob.glob(\"../../../sub-*/ses-*/func/*nback*events.tsv\")) #this is the actual path, but troubleshooting with copies elsewhere first\n",
    "\n",
    "#assign all events.tsv files the block times that we want to analyze\n",
    "#set all other events.tsv files as empty files\n",
    "#we want only the ones listed in the nifti_to_behavioral_run_match.tsv file since those are the ones corresponding to the nback run that was acquired last\n",
    "\n",
    "#empty df \n",
    "empty_df = pd.DataFrame({'onset' : [],'duration' : [],'trial_type' : []})\n",
    "\n",
    "#pull from nifti_to_behavioral_run_match.tsv\n",
    "#make sure we don't read in the missing files (marked by 'none')\n",
    "nifti_to_behavioral_run_match = pd.read_csv(\"nifti_to_behavioral_run_match.tsv\", sep = '\\t')\n",
    "desired_nifti_files = list(nifti_to_behavioral_run_match['nifti_filename'])\n",
    "desired_nifti_events_files = [file.split('bold')[0]+'events.tsv' for file in desired_nifti_files if file != 'none']\n",
    "\n",
    "#for all nback events.tsv files, only add the stimulus timing if we are dealing with the correct run as listed in the nifti_to_behavioral_run_match.tsv file\n",
    "#if nback events.tsv file but the run is not listed in the nifti_to_behavioral_run_match.tsv file then set events.tsv to empty tsv with only the correct headings\n",
    "for file_path in nback_events_locations:\n",
    "    file = file_path.split('/')[-1]\n",
    "    if 'nback' in file:\n",
    "        if file in desired_nifti_events_files:\n",
    "            events_df.to_csv(file_path, index = False, header=True, sep='\\t')\n",
    "        else:\n",
    "            empty_df.to_csv(file_path, index = False, header=True, sep='\\t')\n",
    "            \n",
    "\n"
   ]
  }
 ],
 "metadata": {
  "kernelspec": {
   "display_name": "Python 3",
   "language": "python",
   "name": "python3"
  },
  "language_info": {
   "codemirror_mode": {
    "name": "ipython",
    "version": 3
   },
   "file_extension": ".py",
   "mimetype": "text/x-python",
   "name": "python",
   "nbconvert_exporter": "python",
   "pygments_lexer": "ipython3",
   "version": "3.9.13"
  }
 },
 "nbformat": 4,
 "nbformat_minor": 5
}
