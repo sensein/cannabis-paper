{
 "cells": [
  {
   "cell_type": "code",
   "execution_count": null,
   "id": "29ed373d",
   "metadata": {},
   "outputs": [],
   "source": [
    "import os\n",
    "import pandas as pd\n",
    "import numpy as np\n",
    "import glob\n",
    "import json"
   ]
  },
  {
   "cell_type": "code",
   "execution_count": null,
   "id": "c1bc30de",
   "metadata": {},
   "outputs": [],
   "source": [
    "def create_tsv(ses,group,task):\n",
    "    #outlier types: tsnr, snr, gsr_x, gsr_y, fd_mean, fd_perc\n",
    "    \n",
    "    #grab json files of all subjects in ses, group, task\n",
    "    mriqc_json_files = glob.glob(f'../../../derivatives/mriqc/sub-{group}*/ses-{ses}/func/sub-{group}*_ses-{ses}_task-{task}_rec-unco_run-*_bold.json')\n",
    "    \n",
    "    if len(mriqc_json_files)==0:\n",
    "        print(f'No mriqc output found for group {group} in session {ses} during task {task}.')\n",
    "        return None\n",
    "    \n",
    "    #set up empty dictionary\n",
    "    outlier_values_dict={'subs_runs':[],'tsnr':[],'snr':[],'gsr_x':[],'gsr_y':[],'fd_mean':[],'fd_perc':[]}\n",
    "    \n",
    "    for mriqc_json_file in mriqc_json_files:\n",
    "        mriqc_json = open(mriqc_json_file)\n",
    "        mriqc_json = json.load(mriqc_json)\n",
    "        sub = mriqc_json_file.split('/')[-1].split('_')[0].split('-')[-1]\n",
    "        run = mriqc_json_file.split('/')[-1].split('_')[-2].split('-')[-1]\n",
    "        outlier_values_dict['subs_runs'].append(f'{sub}_{run}')\n",
    "        outlier_values_dict['tsnr'].append(mriqc_json['tsnr'])\n",
    "        outlier_values_dict['snr'].append(mriqc_json['snr'])\n",
    "        outlier_values_dict['gsr_x'].append(mriqc_json['gsr_x'])\n",
    "        outlier_values_dict['gsr_y'].append(mriqc_json['gsr_y'])\n",
    "        outlier_values_dict['fd_mean'].append(mriqc_json['fd_mean'])\n",
    "        outlier_values_dict['fd_perc'].append(mriqc_json['fd_perc'])\n",
    "        if mriqc_json['fd_perc'] <0:\n",
    "            print(mriqc_json_file)\n",
    "    \n",
    "    #turn dict into df\n",
    "    outlier_values_df = pd.DataFrame.from_dict(outlier_values_dict)\n",
    "    \n",
    "    #save df as tsv\n",
    "    save_task_tsv(outlier_values_df,ses,group,task)\n",
    "    \n",
    "    return outlier_values_df\n",
    "    "
   ]
  },
  {
   "cell_type": "code",
   "execution_count": null,
   "id": "1d93bb36",
   "metadata": {},
   "outputs": [],
   "source": [
    "def save_task_tsv(outlier_values_df,ses,group,task):\n",
    "    \n",
    "    #create paths to output dir if not exist\n",
    "    derivatives_path = '../../../derivatives'\n",
    "    nilearn_output_path = os.path.join(derivatives_path, 'mriqc_summaries')\n",
    "    if not os.path.isdir(nilearn_output_path):\n",
    "        os.makedirs (nilearn_output_path)\n",
    "        \n",
    "    #save outlier_values_df to files    \n",
    "    outlier_values_df.to_csv(f'../../../derivatives/mriqc_summaries/group-{group}_ses-{ses}_task-{task}_rec-unco.tsv', sep='\\t',index=False)\n",
    "    \n",
    "    return\n",
    "\n",
    "        "
   ]
  },
  {
   "cell_type": "code",
   "execution_count": null,
   "id": "dc761d90",
   "metadata": {},
   "outputs": [],
   "source": [
    "def create_iqr_cutoffs(ses, mriqc_summary_dfs):\n",
    "    #set up dictionary to store cutoff values\n",
    "    iqr_cutoffs_dict={'tsnr':[],'snr':[],'gsr_x':[],'gsr_y':[],'fd_mean':[],'fd_perc':[]}\n",
    "    \n",
    "    #stack QM metric dfs as one df\n",
    "    combined_mriqc_summary_df = pd.concat(mriqc_summary_dfs, ignore_index=True, sort=False)\n",
    "    combined_mriqc_summary_df.drop(columns=['subs_runs'],inplace=True)\n",
    "    \n",
    "    #calculate IQR for columns\n",
    "    for col in combined_mriqc_summary_df.columns:\n",
    "        q25, q75 = np.percentile(combined_mriqc_summary_df[col], [25 ,75])\n",
    "        iqr = q75 - q25\n",
    "        iqr_cutoffs_dict[col]+=[q25-1.5*iqr,q75+1.5*iqr]\n",
    "    \n",
    "    #save iqr-based cutoffs \n",
    "    save_iqr_cutoffs_tsv(ses, iqr_cutoffs_dict)\n",
    "    \n",
    "    return"
   ]
  },
  {
   "cell_type": "code",
   "execution_count": null,
   "id": "fa905eb7",
   "metadata": {},
   "outputs": [],
   "source": [
    "def save_iqr_cutoffs_tsv(ses, iqr_cutoffs_dict):\n",
    "    \n",
    "    #create df to save\n",
    "    iqr_cutoffs_df = pd.DataFrame.from_dict(iqr_cutoffs_dict)\n",
    "        \n",
    "    #save iqr_cutoffs_df to files    \n",
    "    iqr_cutoffs_df.to_csv(f'../../../derivatives/mriqc_summaries/iqr_cutoffs_ses-{ses}_rec-unco.tsv', sep='\\t',index=False)\n",
    "    \n",
    "    return\n",
    "\n",
    "        "
   ]
  },
  {
   "cell_type": "code",
   "execution_count": null,
   "id": "a903ab4d",
   "metadata": {},
   "outputs": [],
   "source": [
    "ses_list=['baseline','1year']\n",
    "\n",
    "#these all need to be present for the IQR summaries per session to be calculated properly!\n",
    "group_list=['HC','MM']\n",
    "task_list=['mid','sst','nback']\n",
    "\n",
    "if len(glob.glob(f'../../../derivatives/mriqc_summaries/group-*_ses-*_task-*_rec-unco_.tsv'))!=0:\n",
    "    print(f'At least some summary files exist and need to be deleted before the folder can be recreated.')\n",
    "\n",
    "else:\n",
    "    for ses in ses_list:\n",
    "        outlier_dfs = []\n",
    "        for group in group_list:\n",
    "            for task in task_list:\n",
    "                outlier_df = create_tsv(ses,group,task)\n",
    "                if outlier_df is not None:\n",
    "                    outlier_dfs.append(outlier_df)\n",
    "        create_iqr_cutoffs(ses,outlier_dfs)\n"
   ]
  }
 ],
 "metadata": {
  "kernelspec": {
   "display_name": "Python 3",
   "language": "python",
   "name": "python3"
  },
  "language_info": {
   "codemirror_mode": {
    "name": "ipython",
    "version": 3
   },
   "file_extension": ".py",
   "mimetype": "text/x-python",
   "name": "python",
   "nbconvert_exporter": "python",
   "pygments_lexer": "ipython3",
   "version": "3.9.13"
  }
 },
 "nbformat": 4,
 "nbformat_minor": 5
}
