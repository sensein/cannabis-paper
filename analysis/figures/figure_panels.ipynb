{
 "cells": [
  {
   "cell_type": "code",
   "execution_count": null,
   "id": "7477f1af",
   "metadata": {},
   "outputs": [],
   "source": [
    "import glob \n",
    "import os\n",
    "from PIL import Image\n",
    "from PIL import ImageDraw\n",
    "from PIL import ImageOps\n",
    "from PIL import ImageFont"
   ]
  },
  {
   "cell_type": "code",
   "execution_count": null,
   "id": "d634a515",
   "metadata": {},
   "outputs": [],
   "source": [
    "def make_figure_panel(task):\n",
    "    \n",
    "    #pick display view corresponding to task\n",
    "    display_view='axial'\n",
    "    \n",
    "    if task == 'mid':\n",
    "        display_view='coronal'\n",
    "        \n",
    "    #get volumetric figure\n",
    "    vol_figure_path = f'../../../derivatives/task_analysis_volume/visualization/complete_figures/task-{task}/task-{task}_display-{display_view}_figure.png'\n",
    "    vol_im=Image.open(vol_figure_path,mode='r')\n",
    "    vol_w, vol_h = vol_im.size\n",
    "\n",
    "    #get surface figure\n",
    "    surf_figure_path = f'../../../derivatives/task_analysis_surface/visualization/complete_figures/task-{task}/task-{task}_figure.png'\n",
    "    surf_im=Image.open(surf_figure_path,mode='r')\n",
    "    surf_w, surf_h = surf_im.size\n",
    "\n",
    "    #combine\n",
    "    new_im = Image.new('RGB', (surf_w, vol_h+surf_h) ,(255, 255, 255, 1)) #make a new image\n",
    "    new_im.paste(vol_im,(0,0)) \n",
    "    new_im.paste(surf_im,(0,vol_h)) \n",
    "\n",
    "    #add text\n",
    "    draw = ImageDraw.Draw(new_im)\n",
    "    font = ImageFont.truetype(\"../templates/fonts/G_ari_bd.TTF\",80)\n",
    "\n",
    "    top_offset=60\n",
    "    draw.text((0,top_offset),\"a\",fill=(0,0,0),font=font,anchor=\"ls\")\n",
    "    draw.text((0,top_offset*2+vol_h),\"b\",fill=(0,0,0),font=font,anchor=\"ls\")\n",
    "\n",
    "    #display\n",
    "    display(new_im)"
   ]
  },
  {
   "cell_type": "code",
   "execution_count": null,
   "id": "bd22109d",
   "metadata": {
    "scrolled": false
   },
   "outputs": [],
   "source": [
    "task='mid'\n",
    "\n",
    "make_figure_panel(task)"
   ]
  }
 ],
 "metadata": {
  "kernelspec": {
   "display_name": "Python 3",
   "language": "python",
   "name": "python3"
  },
  "language_info": {
   "codemirror_mode": {
    "name": "ipython",
    "version": 3
   },
   "file_extension": ".py",
   "mimetype": "text/x-python",
   "name": "python",
   "nbconvert_exporter": "python",
   "pygments_lexer": "ipython3",
   "version": "3.9.13"
  }
 },
 "nbformat": 4,
 "nbformat_minor": 5
}
